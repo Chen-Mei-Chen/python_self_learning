{
  "metadata": {
    "kernelspec": {
      "language": "python",
      "display_name": "Python 3",
      "name": "python3"
    },
    "language_info": {
      "name": "python",
      "version": "3.11.13",
      "mimetype": "text/x-python",
      "codemirror_mode": {
        "name": "ipython",
        "version": 3
      },
      "pygments_lexer": "ipython3",
      "nbconvert_exporter": "python",
      "file_extension": ".py"
    },
    "kaggle": {
      "accelerator": "none",
      "dataSources": [],
      "dockerImageVersionId": 31089,
      "isInternetEnabled": true,
      "language": "python",
      "sourceType": "notebook",
      "isGpuEnabled": false
    },
    "colab": {
      "name": "<Python學習>讀寫檔案(Path版)",
      "provenance": [],
      "include_colab_link": true
    }
  },
  "nbformat_minor": 0,
  "nbformat": 4,
  "cells": [
    {
      "cell_type": "markdown",
      "metadata": {
        "id": "view-in-github",
        "colab_type": "text"
      },
      "source": [
        "<a href=\"https://colab.research.google.com/github/Chen-Mei-Chen/Python_Self_Learning/blob/main/%3CPython%E7%AD%86%E8%A8%98%3E%E6%AA%94%E6%A1%88%E8%B7%AF%E5%BE%91(Path%E7%B7%B4%E7%BF%92).ipynb\" target=\"_parent\"><img src=\"https://colab.research.google.com/assets/colab-badge.svg\" alt=\"Open In Colab\"/></a>"
      ]
    },
    {
      "cell_type": "markdown",
      "source": [
        "之前有提過利用os方式進行檔案管理，**os主要是以字串的形式定義路徑，而Path則是物件導向**，現代框架幾乎都用Path。\n",
        "\n",
        "以下是四個(Chatgpt提供的)小練習，實作後就大致會使用了:\n",
        "\n",
        "* 練習一：建立與檢查路徑\n",
        "* 練習二：列出資料夾內容並過濾\n",
        "* 練習三：取得檔案資訊（名稱、副檔名、父資料夾）\n",
        "* 練習四：用 Path 取代 os.path 的程式片段\n",
        "* 加分活動一：使用 glob() 遞迴找圖檔\n",
        "* 加分活動二：搬移指定副檔名的檔案\n",
        "\n",
        "(這篇notebook是在kaggle寫成，所以路徑部分使用不少kaggle的路徑型態)"
      ],
      "metadata": {
        "id": "AJ_jj9bxaMMg"
      }
    },
    {
      "cell_type": "markdown",
      "source": [
        "## **練習一：建立與檢查路徑:**\n",
        "\n",
        "假設你要在當前目錄下建立以下結構：\n",
        "\n",
        "請用 pathlib 建立這個資料夾結構（如果已存在就跳過）。\n",
        "\n",
        "然後檢查 images 資料夾是否存在並且是資料夾。"
      ],
      "metadata": {
        "id": "7oSp3DcGaMMt"
      }
    },
    {
      "cell_type": "code",
      "source": [
        "project/\n",
        "└── data/\n",
        "    └── images/"
      ],
      "metadata": {
        "trusted": true,
        "id": "1jlx4ODMaMMu"
      },
      "outputs": [],
      "execution_count": null
    },
    {
      "cell_type": "code",
      "source": [
        "#解答:\n",
        "\n",
        "from pathlib import Path\n",
        "\n",
        "p = Path(\"/kaggle/working/project/data/images\") #記得新定義路徑要括號+雙引號!!\n",
        "p.mkdir(parents=True, exist_ok=True)\n",
        "\n",
        "if p.exists() and p.is_dir():\n",
        "    print(\"資料夾存在\")\n",
        "else:\n",
        "    print(\"路徑不存在或不是資料夾\")"
      ],
      "metadata": {
        "trusted": true,
        "execution": {
          "iopub.status.busy": "2025-07-28T13:53:00.07495Z",
          "iopub.execute_input": "2025-07-28T13:53:00.075283Z",
          "iopub.status.idle": "2025-07-28T13:53:00.081805Z",
          "shell.execute_reply.started": "2025-07-28T13:53:00.075263Z",
          "shell.execute_reply": "2025-07-28T13:53:00.080664Z"
        },
        "id": "eAyd8HHJaMMx",
        "outputId": "404e1379-01e6-48ae-d13d-f4cc74d258ea"
      },
      "outputs": [
        {
          "name": "stdout",
          "text": "資料夾存在\n",
          "output_type": "stream"
        }
      ],
      "execution_count": null
    },
    {
      "cell_type": "markdown",
      "source": [
        "## **練習二:列出資料夾內容並過濾**\n",
        "\n",
        "假設你已經有一個資料夾 project/data/images/，裡面有許多檔案與子資料夾（有 .jpg, .png, .txt, 其他子資料夾）。\n",
        "* 請使用 iterdir() 列出所有子項目。\n",
        "* 過濾只印出 .jpg 和 .png 副檔名的檔案。\n",
        "\n",
        "（可用屬性 .suffix 來判斷）"
      ],
      "metadata": {
        "id": "cIsh7W6FaMM2"
      }
    },
    {
      "cell_type": "code",
      "source": [
        "#解答:\n",
        "\n",
        "#首先我們要先建立各種不同的空檔案，既然母路徑是一樣的，有一個聰明的方式:遞迴:\n",
        "base = Path(\"/kaggle/working/project/data/images\")\n",
        "\n",
        "for name in [\"cat.jpg\", \"dog.png\", \"note.txt\", \"readme.md\"]:\n",
        "    (base / name).touch()  # .touch():建立空檔案  然後記得新定義路徑要括號+雙引號!!\n",
        "\n",
        "#子資料夾:\n",
        "(base / \"dir2\").mkdir(exist_ok=True)\n",
        "\n",
        "#印出圖片檔:利用尋找檔案好幫手:iterdir、分類檔名好幫手suffix\n",
        "for item in base.iterdir():\n",
        "    if item.suffix in ['.jpg', '.png']:\n",
        "        print(\"圖片檔：\", item.name)"
      ],
      "metadata": {
        "trusted": true,
        "execution": {
          "iopub.status.busy": "2025-07-28T12:34:55.722994Z",
          "iopub.execute_input": "2025-07-28T12:34:55.723311Z",
          "iopub.status.idle": "2025-07-28T12:34:55.730994Z",
          "shell.execute_reply.started": "2025-07-28T12:34:55.72329Z",
          "shell.execute_reply": "2025-07-28T12:34:55.729356Z"
        },
        "id": "cSB2yO72aMM3",
        "outputId": "4438aed3-4e04-49b1-acb2-c385130e6c1c"
      },
      "outputs": [
        {
          "name": "stdout",
          "text": "圖片檔： dog.png\n圖片檔： cat.jpg\n",
          "output_type": "stream"
        }
      ],
      "execution_count": null
    },
    {
      "cell_type": "markdown",
      "source": [
        "## **練習三：取得檔案資訊（名稱、副檔名、父資料夾)**\n",
        "\n",
        "請你自行指定一個檔案路徑，例如 \"project/data/images/cat.jpg\"，然後用 Path 方法印出：\n",
        "* 取得檔案名稱：cat.jpg\n",
        "* 取得檔名（不含副檔名）：cat\n",
        "* 副檔名：.jpg\n",
        "* 上層資料夾名稱：應該是 images"
      ],
      "metadata": {
        "id": "ycSDwEQEaMM3"
      }
    },
    {
      "cell_type": "code",
      "source": [
        "#解答:\n",
        "\n",
        "#檔名:\n",
        "p = Path(\"/kaggle/working/project/data/images/cat.jpg\")\n",
        "print(f'取得檔案名稱：{base.name}')\n",
        "\n",
        "#下面容我偷懶，不寫成format:\n",
        "print(p.stem)\n",
        "print(p.suffix)  #真眼熟\n",
        "print(p.parent.name)"
      ],
      "metadata": {
        "trusted": true,
        "execution": {
          "iopub.status.busy": "2025-07-28T12:53:03.488481Z",
          "iopub.execute_input": "2025-07-28T12:53:03.488804Z",
          "iopub.status.idle": "2025-07-28T12:53:03.495108Z",
          "shell.execute_reply.started": "2025-07-28T12:53:03.488782Z",
          "shell.execute_reply": "2025-07-28T12:53:03.493784Z"
        },
        "id": "iZ7u-PROaMM5",
        "outputId": "d0077cf2-3889-40c7-c2b8-6b6a73f982c8"
      },
      "outputs": [
        {
          "name": "stdout",
          "text": "取得檔案名稱：images\ncat\n.jpg\nimages\n",
          "output_type": "stream"
        }
      ],
      "execution_count": null
    },
    {
      "cell_type": "markdown",
      "source": [
        "## **練習四：用 Path 取代 os.path 的程式片段**\n",
        "\n",
        "下面是一段使用 os 的程式邏輯，請你改寫成使用 pathlib.Path 的版本："
      ],
      "metadata": {
        "id": "_qB1ItD3aMM6"
      }
    },
    {
      "cell_type": "code",
      "source": [
        "#題目:\n",
        "\n",
        "import os\n",
        "\n",
        "folder = \"project/data/images\"\n",
        "filename = \"dog.png\"\n",
        "filepath = os.path.join(folder, filename)\n",
        "\n",
        "if os.path.exists(filepath) and os.path.isfile(filepath):\n",
        "    size = os.path.getsize(filepath)\n",
        "    print(\"檔案大小:\", size)\n",
        "else:\n",
        "    print(\"檔案不存在或非檔案\")"
      ],
      "metadata": {
        "trusted": true,
        "id": "SwfWGO8BaMM7"
      },
      "outputs": [],
      "execution_count": null
    },
    {
      "cell_type": "code",
      "source": [
        "#解答:\n",
        "\n",
        "path = Path(\"/kaggle/working/project/data/images/dog.png\")\n",
        "\n",
        "if path.exists() and path.is_file():\n",
        "    print(f\"檔案大小:{path.stat().st_size}\") #這就是檔案大小的求法\n",
        "else:\n",
        "    print(\"檔案不存在或非檔案\")"
      ],
      "metadata": {
        "trusted": true,
        "execution": {
          "iopub.status.busy": "2025-07-28T13:01:37.123053Z",
          "iopub.execute_input": "2025-07-28T13:01:37.123336Z",
          "iopub.status.idle": "2025-07-28T13:01:37.127981Z",
          "shell.execute_reply.started": "2025-07-28T13:01:37.123318Z",
          "shell.execute_reply": "2025-07-28T13:01:37.127182Z"
        },
        "id": "uhiKlZ9daMM8",
        "outputId": "d2ecc4e9-7e4b-4692-a1c8-054bfe3cd678"
      },
      "outputs": [
        {
          "name": "stdout",
          "text": "檔案大小:0\n",
          "output_type": "stream"
        }
      ],
      "execution_count": null
    },
    {
      "cell_type": "markdown",
      "source": [
        "## **加分活動一：使用 glob() 遞迴找圖檔**\n",
        "\n",
        "請你搜尋 project/data/images/ 資料夾下所有子目錄裡的 .jpg 圖片，並列出它們的完整路徑。\n",
        "\n",
        "**ps.常用的 glob() 通配符總整理:**\n",
        "\n",
        "| 通配符      | 意義/匹配內容                    | 範例               | 匹配範例                                        |\n",
        "| -------- | -------------------------- | ---------------- | ------------------------------------------- |\n",
        "| `*`      | 任意長度的字元（不含 `/`）            | `*.jpg`          | `a.jpg`, `photo.jpg`, `123.jpg`             |\n",
        "| `?`      | 任意一個字元                     | `file?.txt`      | `file1.txt`, `fileA.txt`（不含 `file12.txt`）   |\n",
        "| `[abc]`  | 任一個 `a`、`b`、或 `c`          | `file[ab].txt`   | `filea.txt`, `fileb.txt`                    |\n",
        "| `[a-z]`  | 範圍內任一字元（a 到 z）             | `file[a-z].txt`  | `filem.txt`, `filez.txt`                    |\n",
        "| `[!abc]` | **不是** `a`、`b`、或 `c` 的任一字元 | `file[!ab].txt`  | `filex.txt`, `file9.txt`（不含 `filea.txt`）    |\n",
        "| `[!a-z]` | **不是** 小寫英文字的任一字元          | `file[!a-z].txt` | `file1.txt`, `fileA.txt`（不含 `filea.txt`）    |\n",
        "| `**`     | 遞迴所有子資料夾（含多層）              | `**/*.jpg`       | `img.jpg`, `folder1/cat.jpg`, `a/b/c/d.jpg` |"
      ],
      "metadata": {
        "id": "nsnZzZOdaMM9"
      }
    },
    {
      "cell_type": "code",
      "source": [
        "#解答:\n",
        "\n",
        "p = Path(\"/kaggle/working/project/data/images\")\n",
        "\n",
        "for file in p.glob(\"**/*.jpg\"):\n",
        "    print(file.resolve())  # 用resolve()顯示絕對路徑\n",
        "\n",
        "#glob就像探員，resolve就像記者"
      ],
      "metadata": {
        "trusted": true,
        "execution": {
          "iopub.status.busy": "2025-07-28T13:55:50.167909Z",
          "iopub.execute_input": "2025-07-28T13:55:50.168355Z",
          "iopub.status.idle": "2025-07-28T13:55:50.174466Z",
          "shell.execute_reply.started": "2025-07-28T13:55:50.168333Z",
          "shell.execute_reply": "2025-07-28T13:55:50.173322Z"
        },
        "id": "-J4uQ3DqaMM-",
        "outputId": "9a3a247b-b0a5-4c0b-ddc6-f5a49483273e"
      },
      "outputs": [
        {
          "name": "stdout",
          "text": "/kaggle/working/project/data/images/cat.jpg\n",
          "output_type": "stream"
        }
      ],
      "execution_count": null
    },
    {
      "cell_type": "markdown",
      "source": [
        "## **加分活動二：搬移指定副檔名的檔案**\n",
        "\n",
        "將 project/data/images/ 下所有 .png 圖片（包含子資料夾）複製到 project/data/pngs/ 資料夾，若目的資料夾不存在，請自動建立。\n",
        "\n",
        "**ps.複製路徑shutil.copy(file, dst_dir / file.name)的說明:**\n",
        "\n",
        "shutil.copy(複製檔案的完整路徑，可以是Path也可以是字串, 目的檔案的完整路徑 / 複製檔案.name)\n",
        "\n",
        "所以輸出的新檔案就是:目的檔路徑/複製檔"
      ],
      "metadata": {
        "id": "gZhIs5hzaMM_"
      }
    },
    {
      "cell_type": "code",
      "source": [
        "#解答:\n",
        "\n",
        "import shutil\n",
        "\n",
        "path = Path(\"/kaggle/working/project/data/pngs\")\n",
        "path.mkdir(parents=True, exist_ok=True)\n",
        "\n",
        "for file in p.glob(\"**/*.png\"):\n",
        "    shutil.copy(file, path / file.name)"
      ],
      "metadata": {
        "trusted": true,
        "execution": {
          "iopub.status.busy": "2025-07-28T14:17:37.49487Z",
          "iopub.execute_input": "2025-07-28T14:17:37.495225Z",
          "iopub.status.idle": "2025-07-28T14:17:37.501489Z",
          "shell.execute_reply.started": "2025-07-28T14:17:37.495109Z",
          "shell.execute_reply": "2025-07-28T14:17:37.500615Z"
        },
        "id": "-0bvKRwkaMM_"
      },
      "outputs": [],
      "execution_count": null
    }
  ]
}